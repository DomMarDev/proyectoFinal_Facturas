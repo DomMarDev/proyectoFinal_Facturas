{
 "cells": [
  {
   "cell_type": "markdown",
   "metadata": {},
   "source": [
    "# 1. Introducción"
   ]
  },
  {
   "cell_type": "markdown",
   "metadata": {},
   "source": [
    "## Proyecto: factura_DM"
   ]
  },
  {
   "cell_type": "markdown",
   "metadata": {},
   "source": [
    "## Descripción: una breve descripción del proyecto, sus objetivos y su importancia."
   ]
  },
  {
   "cell_type": "markdown",
   "metadata": {},
   "source": [
    "El proyecto se basará en un programa que permita al usuario crear, de forma local, facturas para un negocio. Además el usuario tendrá control sobre estas y las podrá modificar, eliminar, mostrar o buscar."
   ]
  },
  {
   "cell_type": "markdown",
   "metadata": {},
   "source": [
    "# 2. Requisitos:"
   ]
  },
  {
   "cell_type": "markdown",
   "metadata": {},
   "source": [
    "## Lista de requisitos: herramientas y bibliotecas necesarias para ejecutar el proyecto."
   ]
  },
  {
   "cell_type": "markdown",
   "metadata": {},
   "source": [
    "Librerías:\n",
    "1) PIL / Pillow ->  poder ajustar imagenes (pip install Pillow)\n",
    "2) datetime -> dar la fecha cuando se crea la factura y otras aplicaciones?\n",
    "3) fpdf -> generador de archivo PDF ( pip install fpdf)\n",
    "4) tkinter como interfaz o kivy?\n",
    "5) pathlib -> Necesario para la manipulación de archivos json\n",
    "6) os -> para clear o pause screen (no sé si la voy a acabar usando)\n",
    "7) random -> generador de números aleatórios"
   ]
  },
  {
   "cell_type": "markdown",
   "metadata": {},
   "source": [
    "# 3. Diseño del proyecto:"
   ]
  },
  {
   "cell_type": "markdown",
   "metadata": {},
   "source": [
    "## Descripción del diseño: una descripción de alto nivel de cómo se estructurará el código"
   ]
  },
  {
   "cell_type": "markdown",
   "metadata": {},
   "source": [
    "1) Login screen: va a aparecer una ventana para que el usuario verifique sus credenciales ( de momento no quiero registrar usuarios)\n",
    "\n",
    "2) Menú principal:\n",
    "\n",
    "\n",
    "\n",
    "\n",
    "\n",
    "Datos presentes en una factura:\n",
    "    * Logo empresa\n",
    "    * Datos de la localización de la empresa:\n",
    "        * calle/ localiz/ CP / TLF / C.I.F o NIF de la empresa / correo\n",
    "    \n",
    "    * Nombre empresa\n",
    "    * Fecha factura\n",
    "    * Cliente\n",
    "    * DNI/NIF cliente\n",
    "    * Datos de la localización del cliente:\n",
    "        * calle/ localiz/ CP / TLF\n",
    "    \n",
    "    * Tabla:\n",
    "        * Unidades del elemento\n",
    "        * Elementos de la factura\n",
    "        * Precio del elemento\n",
    "        * Precio total del elemento\n",
    "    \n",
    "    * Tabla 2:\n",
    "        * Importe Bruto\n",
    "        * IVA % *\n",
    "        * Base imponible\n",
    "        * IVA *\n",
    "        * Total Factura\n",
    "    *Tabla 3:\n",
    "        * Fecha vencimiento factura\n",
    "        * Forma de Pago\n",
    "        * Banco\n",
    "        * IBAN"
   ]
  },
  {
   "cell_type": "markdown",
   "metadata": {},
   "source": [
    "4. Diagrama de flujo:"
   ]
  },
  {
   "cell_type": "markdown",
   "metadata": {},
   "source": [
    "## Diagrama de flujo aproximado de la ejecución del programa. Como mínimo del script principal y una de las funcionalidades."
   ]
  },
  {
   "cell_type": "markdown",
   "metadata": {},
   "source": []
  }
 ],
 "metadata": {
  "language_info": {
   "name": "python"
  }
 },
 "nbformat": 4,
 "nbformat_minor": 2
}
